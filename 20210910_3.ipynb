{
  "nbformat": 4,
  "nbformat_minor": 0,
  "metadata": {
    "colab": {
      "name": "20210910-3.ipynb",
      "provenance": [],
      "collapsed_sections": [],
      "authorship_tag": "ABX9TyMdEIe/cbV30Oqc/D5gJWDh",
      "include_colab_link": true
    },
    "kernelspec": {
      "name": "python3",
      "display_name": "Python 3"
    },
    "language_info": {
      "name": "python"
    }
  },
  "cells": [
    {
      "cell_type": "markdown",
      "metadata": {
        "id": "view-in-github",
        "colab_type": "text"
      },
      "source": [
        "<a href=\"https://colab.research.google.com/github/aang26713/aang26713/blob/main/20210910_3.ipynb\" target=\"_parent\"><img src=\"https://colab.research.google.com/assets/colab-badge.svg\" alt=\"Open In Colab\"/></a>"
      ]
    },
    {
      "cell_type": "code",
      "metadata": {
        "colab": {
          "base_uri": "https://localhost:8080/"
        },
        "id": "zSHLuzk2Wkrt",
        "outputId": "b14c601e-6d64-4a06-da24-5aebf68f85af"
      },
      "source": [
        "print('***')"
      ],
      "execution_count": null,
      "outputs": [
        {
          "output_type": "stream",
          "name": "stdout",
          "text": [
            "***\n"
          ]
        }
      ]
    },
    {
      "cell_type": "code",
      "source": [
        ""
      ],
      "metadata": {
        "id": "t-nd_6XcxHTF"
      },
      "execution_count": null,
      "outputs": []
    },
    {
      "cell_type": "code",
      "metadata": {
        "colab": {
          "base_uri": "https://localhost:8080/"
        },
        "id": "aaf4isO4XLe1",
        "outputId": "6b9a922c-1231-4815-9430-5d36c1ed4f03"
      },
      "source": [
        "print('**********************')\n",
        "print('*                    *')\n",
        "print('*     안녕하세용     *')\n",
        "print('*                    *')\n",
        "print('**********************')"
      ],
      "execution_count": null,
      "outputs": [
        {
          "output_type": "stream",
          "name": "stdout",
          "text": [
            "**********************\n",
            "*                    *\n",
            "*     안녕하세용     *\n",
            "*                    *\n",
            "**********************\n"
          ]
        }
      ]
    },
    {
      "cell_type": "code",
      "metadata": {
        "colab": {
          "base_uri": "https://localhost:8080/"
        },
        "id": "koGWWYFTXqZu",
        "outputId": "942cc3e9-2333-4f61-9207-f4bcb77ff9a5"
      },
      "source": [
        "print('*'*20)"
      ],
      "execution_count": null,
      "outputs": [
        {
          "output_type": "stream",
          "name": "stdout",
          "text": [
            "********************\n"
          ]
        }
      ]
    },
    {
      "cell_type": "code",
      "metadata": {
        "colab": {
          "base_uri": "https://localhost:8080/"
        },
        "id": "PMvb-LdLYuqn",
        "outputId": "18549169-594b-42eb-c80b-3230a84a0bbb"
      },
      "source": [
        "print('안녕하세요. 저는 {0}입니당'. format('양정환'))"
      ],
      "execution_count": null,
      "outputs": [
        {
          "output_type": "stream",
          "name": "stdout",
          "text": [
            "안녕하세요. 저는 양정환입니당\n"
          ]
        }
      ]
    },
    {
      "cell_type": "code",
      "metadata": {
        "colab": {
          "base_uri": "https://localhost:8080/"
        },
        "id": "nnZZ4uQ-ZVTt",
        "outputId": "2ddc3b13-c62d-48e3-ed4f-54d6789bd75d"
      },
      "source": [
        "print('안녕하세요. 저는 {0}이고 나이는 {1}살 입니당.'.format('양정환',17))"
      ],
      "execution_count": null,
      "outputs": [
        {
          "output_type": "stream",
          "name": "stdout",
          "text": [
            "안녕하세요. 저는 양정환이고 나이는 17살 입니당.\n"
          ]
        }
      ]
    },
    {
      "cell_type": "code",
      "metadata": {
        "colab": {
          "base_uri": "https://localhost:8080/"
        },
        "id": "BhHW-WMHZhdj",
        "outputId": "85091ff4-f950-4f83-828e-8aaae1b2df64"
      },
      "source": [
        "name = input('아름: ')\n",
        "age = input('나이: ')\n",
        "print('{0}({1})'.format(name,age))"
      ],
      "execution_count": null,
      "outputs": [
        {
          "output_type": "stream",
          "name": "stdout",
          "text": [
            "아름: 한승준\n",
            "나이: 17\n",
            "한승준(17)\n"
          ]
        }
      ]
    }
  ]
}