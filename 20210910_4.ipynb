{
  "nbformat": 4,
  "nbformat_minor": 0,
  "metadata": {
    "colab": {
      "name": "20210910-4.ipynb",
      "provenance": [],
      "collapsed_sections": [],
      "authorship_tag": "ABX9TyNg3NfLqOFrVYVK2AefOHhR",
      "include_colab_link": true
    },
    "kernelspec": {
      "display_name": "Python 3",
      "name": "python3"
    },
    "language_info": {
      "name": "python"
    }
  },
  "cells": [
    {
      "cell_type": "markdown",
      "metadata": {
        "id": "view-in-github",
        "colab_type": "text"
      },
      "source": [
        "<a href=\"https://colab.research.google.com/github/aang26713/aang26713/blob/main/20210910_4.ipynb\" target=\"_parent\"><img src=\"https://colab.research.google.com/assets/colab-badge.svg\" alt=\"Open In Colab\"/></a>"
      ]
    },
    {
      "cell_type": "code",
      "metadata": {
        "id": "CDxOjkiCce3G",
        "colab": {
          "base_uri": "https://localhost:8080/"
        },
        "outputId": "fba2cd49-faa4-492d-f36f-d1904817cb31"
      },
      "source": [
        "name = input('이름: ')\n",
        "sex = input('성별: ')\n",
        "age = int(input('나이: '))\n",
        "\n",
        "if int(age) < 19.1:\n",
        "  print('{0}({1})미성년자 입니다.'.format(name,sex,age))\n",
        "else:\n",
        "  print('{0}({1})성인 입니다.'.format(name,sex,age))"
      ],
      "execution_count": null,
      "outputs": [
        {
          "output_type": "stream",
          "name": "stdout",
          "text": [
            "이름: 한승준\n",
            "성별: 남\n",
            "나이: 20\n",
            "한승준(남)성인 입니다.\n"
          ]
        }
      ]
    },
    {
      "cell_type": "code",
      "metadata": {
        "colab": {
          "base_uri": "https://localhost:8080/"
        },
        "id": "mX05BE-O5ZNN",
        "outputId": "7a911596-7f83-49e3-841f-52bf92307113"
      },
      "source": [
        "name = input('이름: ')\n",
        "sex = input('성별: ')\n",
        "age = int(input('나이: '))\n",
        "\n",
        "if (age <= 19):\n",
        "  print('{0}({1})미성년자 입니다.'.format(name,sex,age))\n",
        "else:\n",
        "  print('{0}({1})성인 입니다.'.format(name,sex,age))"
      ],
      "execution_count": null,
      "outputs": [
        {
          "output_type": "stream",
          "name": "stdout",
          "text": [
            "이름: 한승준\n",
            "성별: 남\n",
            "나이: 20\n",
            "한승준(남)성인 입니다.\n"
          ]
        }
      ]
    }
  ]
}