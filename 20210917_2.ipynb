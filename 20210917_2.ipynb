{
  "nbformat": 4,
  "nbformat_minor": 0,
  "metadata": {
    "colab": {
      "name": "20210917-2.ipynb",
      "provenance": [],
      "collapsed_sections": [],
      "authorship_tag": "ABX9TyOwN2lN+QqmZP4DqQ+VeCt/",
      "include_colab_link": true
    },
    "kernelspec": {
      "name": "python3",
      "display_name": "Python 3"
    },
    "language_info": {
      "name": "python"
    }
  },
  "cells": [
    {
      "cell_type": "markdown",
      "metadata": {
        "id": "view-in-github",
        "colab_type": "text"
      },
      "source": [
        "<a href=\"https://colab.research.google.com/github/aang26713/aang26713/blob/main/20210917_2.ipynb\" target=\"_parent\"><img src=\"https://colab.research.google.com/assets/colab-badge.svg\" alt=\"Open In Colab\"/></a>"
      ]
    },
    {
      "cell_type": "code",
      "metadata": {
        "colab": {
          "base_uri": "https://localhost:8080/"
        },
        "id": "4rMJgn5xQhQx",
        "outputId": "f5ce6797-c108-4302-c0c5-8c5e402a44a2"
      },
      "source": [
        "def addcalc(x,y):\n",
        "  return x + y\n",
        "\n",
        "# result = addcalc(5,7)\n",
        "# print(result)\n",
        "\n",
        "\n",
        "a,b = input('값을 두개 입력하세영: ').split('+')\n",
        "\n",
        "result = addcalc(int(a), int(b))\n",
        "print(result)"
      ],
      "execution_count": null,
      "outputs": [
        {
          "output_type": "stream",
          "name": "stdout",
          "text": [
            "값을 두개 입력하세영: 1+2\n",
            "3\n"
          ]
        }
      ]
    },
    {
      "cell_type": "code",
      "metadata": {
        "colab": {
          "base_uri": "https://localhost:8080/"
        },
        "id": "veuwVkydSPcF",
        "outputId": "48764ab1-76ea-4f08-9096-91ee27d12054"
      },
      "source": [
        "def minuscalc(x,y):\n",
        "  return x - y\n",
        "\n",
        "a,b = input('값을 두개 입력하세영: ').split('-')\n",
        "\n",
        "result = minuscalc(int(a), int(b))\n",
        "print(result)"
      ],
      "execution_count": null,
      "outputs": [
        {
          "output_type": "stream",
          "name": "stdout",
          "text": [
            "값을 두개 입력하세영: 7-2\n",
            "5\n"
          ]
        }
      ]
    },
    {
      "cell_type": "code",
      "metadata": {
        "colab": {
          "base_uri": "https://localhost:8080/"
        },
        "id": "orleXJs-S9e9",
        "outputId": "e1e9ff2b-4660-41c8-bc7a-9fb434a0e04a"
      },
      "source": [
        "def age(a):\n",
        "  if a<20:\n",
        "    print('미자')\n",
        "  else:\n",
        "    print('성인')\n",
        "\n",
        "b = input('나이를 입력하세영: ')\n",
        "age(int(b))"
      ],
      "execution_count": null,
      "outputs": [
        {
          "output_type": "stream",
          "name": "stdout",
          "text": [
            "나이를 입력하세영: 20\n",
            "성인\n"
          ]
        }
      ]
    }
  ]
}